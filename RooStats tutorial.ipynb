{
 "metadata": {
  "name": "",
  "signature": "sha256:0bdcb7387075aa8f23874397aff32392943dab0845dd26ed1b90c2675381bb07"
 },
 "nbformat": 3,
 "nbformat_minor": 0,
 "worksheets": [
  {
   "cells": [
    {
     "cell_type": "heading",
     "level": 1,
     "metadata": {},
     "source": [
      "Introduction to <tt>RooStats</tt> for doing statistical data interpretation"
     ]
    },
    {
     "cell_type": "heading",
     "level": 4,
     "metadata": {},
     "source": [
      "Outline"
     ]
    },
    {
     "cell_type": "markdown",
     "metadata": {},
     "source": [
      "<ol>\n",
      "<li>Introduction</li>\n",
      "<li>Test Statistics</li>\n",
      "<li>Significances</li>\n",
      "<li>Parameter Uncertainties</li>\n",
      "<li>Upper Limits</li>\n",
      "</ol>"
     ]
    },
    {
     "cell_type": "heading",
     "level": 2,
     "metadata": {},
     "source": [
      "1. Introduction"
     ]
    },
    {
     "cell_type": "markdown",
     "metadata": {},
     "source": [
      "The thorough interpretation of a measurement is often a delicate task. Especially questions like the following require advanced statistical methods in order to arrive at reliable statements/conclusions.\n",
      "<ul>\n",
      "<li>How significant is my (signal) observation?</li>\n",
      "<li>I know the best fit value for my parameter, but how large is its uncertainty?</li>\n",
      "<li>I haven't seen the expected signal. What can I learn from this?</li>\n",
      "</ul><br />\n",
      "In this tutorial these questions are discussed and it is demonstrated how to use the <a href=\"https://twiki.cern.ch/twiki/bin/view/RooStats/WebHome\"><tt>RooStats</tt> framework</a> to perform statistical data interpretation."
     ]
    },
    {
     "cell_type": "heading",
     "level": 4,
     "metadata": {},
     "source": [
      "Frequentist vs. Bayesian Statistics"
     ]
    },
    {
     "cell_type": "markdown",
     "metadata": {},
     "source": [
      "There are two major schools of statistics: <i>frequentist</i> and <i>bayesian</i>. In many cases, the results obtained with both methods are surprisingly similiar. Nevertheless, the meaning of frequentist and bayesian results is based on different philosophical concepts. Here, the main differences are highlighted briefly. This discussion is merely meant to raise your awareness for differences rather than to provide a full, comprehensive comparison.<br />\n",
      "A long story short: <i><b>Bayesians</b></i> treat the <b>parameter value as random variable</b> and keep boudaries fixed while <i><b>Frequentist</b></i> keep the <b>unknown true value of the parameter fixed</b> and regard the interval boundaries as random variables. Assuming a scientific paper reports a measurement of a parameter as $x = x_0 \\pm \\Delta x$ (CL = 68.3%).<br />\n",
      "<ul>\n",
      "<li><i>Bayesian interpretation:</i> The probability of the true value of $x$ being inside the interval $[x_0 - \\Delta x,x_0 + \\Delta x ]$ is 68.3% This is called a <u>credibility</u> interval.</li>\n",
      "<li><i>Frequentist interpretation:</i> Suppose you would re-run the measurement many times and for each run you construct an interval. Then, the true value of $x$ would be inside the interval in 68.3% of the cases. This is called a <u>confidence</u> interval.</li>\n",
      "</ul><br />\n",
      "In Bayesian statistics one makes a statement about the <i>true</i> value of the parameter being inside a given interval with a certain <u>credibility</u>. A frequentist interval can only be interpreted as part of an ensemble of intervals out of which a certain fraction will <u>cover</u> the true value of the parameter."
     ]
    },
    {
     "cell_type": "heading",
     "level": 4,
     "metadata": {},
     "source": [
      "Toy Model and parameters"
     ]
    },
    {
     "cell_type": "markdown",
     "metadata": {},
     "source": [
      "For the following tasks we need a toy model which we will take to be an exponentially decaying background and a Gaussian-shaped signal."
     ]
    },
    {
     "cell_type": "code",
     "collapsed": false,
     "input": [
      "import ROOT\n",
      "import rootnotes   # for displaying ROOT figure inline\n",
      "import rootprint   # for capturing ROOT output\n",
      "c1 = rootnotes.default_canvas()"
     ],
     "language": "python",
     "metadata": {},
     "outputs": [],
     "prompt_number": 1
    },
    {
     "cell_type": "code",
     "collapsed": false,
     "input": [
      "ws = ROOT.RooWorkspace(\"ws\")\n",
      "ws.factory(\"Exponential:e(x[0,500],tau[-0.01,-5,-0.001])\")            # exponential background PDF\n",
      "ws.factory(\"Gaussian::g(x,mean[250,0,500],sigma[15,0.5,50])\")    # Gaussian signal PDF\n",
      "ws.factory(\"SUM::model(b[100,0,5000]*e,s[20,0,100]*g)\")          # composite model\n",
      "ws.saveSnapshot(\"initial_pars\",\"tau,mean,sigma,s,b\")             # make snapshot of parameter values\n",
      "%rp ws.Print()"
     ],
     "language": "python",
     "metadata": {},
     "outputs": [
      {
       "output_type": "stream",
       "stream": "stdout",
       "text": [
        "\n",
        "RooWorkspace(ws) ws contents\n",
        "\n",
        "variables\n",
        "---------\n",
        "(b,mean,s,sigma,tau,x)\n",
        "\n",
        "p.d.f.s\n",
        "-------\n",
        "RooExponential::e[ x=x c=tau ] = 0.082085\n",
        "RooGaussian::g[ x=x mean=mean sigma=sigma ] = 1\n",
        "RooAddPdf::model[ b * e + s * g ] = 0.235071\n",
        "\n",
        "parameter snapshots\n",
        "-------------------\n",
        "initial_pars = (tau=-0.01,mean=250,sigma=15,b=100,s=20)\n",
        "\n",
        "\n"
       ]
      }
     ],
     "prompt_number": 12
    },
    {
     "cell_type": "markdown",
     "metadata": {},
     "source": [
      "This toy model depends on the variables $x,\\tau,\\mu,\\sigma,s,b$. The results of our measurement is $x$ and the parameter we are interested in is the number of observed signal events $s$. Therefore, the variables are categorised as follows:\n",
      "<ul>\n",
      "<li>the <i>observable</i> $x$,</li>\n",
      "<li>the <i>nuisance parameters</i> $\\tau, \\mu, \\sigma$ and $b$,</li>\n",
      "<li>and the <i>parameter of interest</i> $s$.</li>\n",
      "</ul><br />\n",
      "The likelihood function of the toy model is given by\n",
      "$$\\mathcal{L}(\\vec{x}|s,\\vec{\\theta}) = \\prod_{i=1}^n \\left[ s \\times \\text{G}(x_i|\\mu,\\sigma) + b \\times \\text{Exp}(x_i|\\tau) \\right] \\times \\text{Pois}(n|s+b)$$ where $\\vec{x}$ is the set of observations of $x$ and $\\vec{\\theta}$ denotes the set of nuisance parameters. It is handy to store this information for later usage into a <code>ModelConfig</code> object."
     ]
    },
    {
     "cell_type": "code",
     "collapsed": false,
     "input": [
      "# set configuration\n",
      "mc = ROOT.RooStats.ModelConfig(ws)\n",
      "mc.SetPdf(\"model\") \n",
      "mc.SetObservables(\"x\")\n",
      "mc.SetNuisanceParameters(\"tau,mean,sigma,b\")\n",
      "mc.SetParametersOfInterest(\"s\")"
     ],
     "language": "python",
     "metadata": {},
     "outputs": [],
     "prompt_number": 13
    },
    {
     "cell_type": "heading",
     "level": 2,
     "metadata": {},
     "source": [
      "2. Test Statistics"
     ]
    },
    {
     "cell_type": "markdown",
     "metadata": {},
     "source": [
      "Measurements can be difficult to describe in a general approach as they can be very different (e.g. varying number of observables, discrete vs. continue observables etc). Therefore, the statistical data interpretation happens on a higher, more abstract level (well, this \"abstract\" level is going to be $\\mathbb{R}$ $\\dots$). You can think of a <i>test statistic</i> $t$ as a mapping from your space of observables to this abstract level: $t: \\text{measurement} \\mapsto \\mathbb{R}$. Below are a few example definitions for a test statistic:\n",
      "<ul>\n",
      "<li>1) $t = 4$</li>\n",
      "<li>2) $t = n/\\hat{b}$</li>\n",
      "<li>3) $t = -2 \\log \\frac{\\mathcal{L}(\\vec{x}|s,\\hat{\\hat{\\theta}})}{\\mathcal{L}(\\vec{x}|\\hat{s},\\hat{\\theta})}$</li>\n",
      "</ul>"
     ]
    },
    {
     "cell_type": "code",
     "collapsed": false,
     "input": [
      "infile = ROOT.TFile(\"examples.root\")\n",
      "w = infile.Get(\"ws\")\n",
      "d1 = w.data(\"data1\")\n",
      "d2 = w.data(\"data2\")\n",
      "d3 = w.data(\"data3\")\n",
      "c = rootnotes.default_canvas(name=\"c17\",size=(1100,400))\n",
      "c.Divide(3,1)\n",
      "t = []\n",
      "for n,d in enumerate([d1,d2,d3]):\n",
      "    f = ws.var(\"x\").frame()\n",
      "    d.plotOn(f)\n",
      "    ws.loadSnapshot(\"initial_pars\")\n",
      "    r = ws.pdf(\"model\").fitTo(d,ROOT.RooFit.Save())\n",
      "    ws.pdf(\"model\").plotOn(f,ROOT.RooFit.LineColor(ROOT.kRed))\n",
      "    uncond_nll = r.minNll()\n",
      "    ws.var(\"s\").setVal(0)\n",
      "    ws.var(\"s\").setConstant(1)\n",
      "    c.cd(n+1)\n",
      "    r = ws.pdf(\"model\").fitTo(d,ROOT.RooFit.Save())\n",
      "    cond_nll = r.minNll()\n",
      "    f.SetMinimum(0)    \n",
      "    ws.pdf(\"model\").plotOn(f)\n",
      "    f.Draw()\n",
      "    t.append([4,d.numEntries()/ws.var(\"b\").getVal(),2*(cond_nll - uncond_nll)])\n",
      "print t\n",
      "c"
     ],
     "language": "python",
     "metadata": {},
     "outputs": [
      {
       "output_type": "stream",
       "stream": "stdout",
       "text": [
        "[[4, 1.0001226055863008, 14.949803554041864], [4, 1.0000222306013844, 30.249610858454616], [4, 1.0001973304702858, 2.671284932348499]]\n"
       ]
      },
      {
       "metadata": {},
       "output_type": "pyout",
       "png": "[encoded data removed]",
       "prompt_number": 38,
       "text": [
        "<ROOT.TCanvas object (\"c17\") at 0x4913fa0>"
       ]
      }
     ],
     "prompt_number": 38
    },
    {
     "cell_type": "heading",
     "level": 2,
     "metadata": {},
     "source": [
      "3. Expected and Observed Significances"
     ]
    },
    {
     "cell_type": "heading",
     "level": 2,
     "metadata": {},
     "source": [
      "4. Estimating Parameter Uncertainties"
     ]
    },
    {
     "cell_type": "heading",
     "level": 2,
     "metadata": {},
     "source": [
      "5. Upper Limits on Parameters"
     ]
    }
   ],
   "metadata": {}
  }
 ]
}